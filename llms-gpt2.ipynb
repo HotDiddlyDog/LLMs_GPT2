{
 "cells": [
  {
   "cell_type": "markdown",
   "id": "eff920ce-8094-4175-8fff-e70dc227fb23",
   "metadata": {},
   "source": [
    "## Dependencies: \n",
    "\n",
    "+ transformers \n",
    "+ pdfplumber \n",
    "+ torch \n",
    "+ bert-extractive-summarizer"
   ]
  },
  {
   "cell_type": "markdown",
   "id": "8f3d993b-c236-4037-a4df-ecf604e95533",
   "metadata": {},
   "source": [
    "## Pdf extracter & Summary on Resume "
   ]
  },
  {
   "cell_type": "code",
   "execution_count": 22,
   "id": "e43173d7-2de7-472b-b6eb-398a5fc2eaff",
   "metadata": {
    "tags": []
   },
   "outputs": [
    {
     "name": "stderr",
     "output_type": "stream",
     "text": [
      "C:\\Users\\Kathy\\anaconda3\\Lib\\site-packages\\sklearn\\cluster\\_kmeans.py:1412: FutureWarning: The default value of `n_init` will change from 10 to 'auto' in 1.4. Set the value of `n_init` explicitly to suppress the warning\n",
      "  super()._check_params_vs_input(X, default_n_init=10)\n",
      "C:\\Users\\Kathy\\anaconda3\\Lib\\site-packages\\sklearn\\cluster\\_kmeans.py:1436: UserWarning: KMeans is known to have a memory leak on Windows with MKL, when there are less chunks than available threads. You can avoid it by setting the environment variable OMP_NUM_THREADS=1.\n",
      "  warnings.warn(\n"
     ]
    },
    {
     "name": "stdout",
     "output_type": "stream",
     "text": [
      "Summary: Concert Genetics Remote\n",
      "Software Engineering Intern, (Angular, TypeScript) June 2022–May 2023\n",
      "• Managed content for internal application dealing with 75,000+ genetic testing products. The University of Memphis Memphis, TN\n",
      "Software Developer, Records Auction Application, (Ruby on Rails, Balsamiq) Fall 2022\n",
      "• Developed a mock eBay website that allows a user to trade or auction records.\n"
     ]
    }
   ],
   "source": [
    "import pdfplumber\n",
    "from transformers import GPT2Tokenizer, GPT2Model, GPT2LMHeadModel\n",
    "from summarizer import TransformerSummarizer\n",
    "\n",
    "#Summary \n",
    "#Extract text from the PDF\n",
    "def extract_text(pdf_file_path):\n",
    "    with pdfplumber.open(pdf_file_path) as pdf:\n",
    "        text = \"\"\n",
    "        for page in pdf.pages:\n",
    "            text += page.extract_text()\n",
    "            break;\n",
    "    return text\n",
    "\n",
    "model = TransformerSummarizer(transformer_type='GPT2',transformer_model_key='gpt2')\n",
    "\n",
    "input_pdf_text = extract_text(\"Kathy_Nguyen_Resume.pdf\")\n",
    "\n",
    "Summary =''.join(model(input_pdf_text,min_length=100))\n",
    "\n",
    "print('Summary:', Summary)\n"
   ]
  },
  {
   "cell_type": "markdown",
   "id": "fc24ca75-e6ab-4165-8cb4-b3258a7f2d9a",
   "metadata": {},
   "source": [
    "## Text generation on text "
   ]
  },
  {
   "cell_type": "code",
   "execution_count": 20,
   "id": "2ca7c61e-ae64-4248-89cb-3c50ae37c6c5",
   "metadata": {
    "tags": []
   },
   "outputs": [
    {
     "data": {
      "text/plain": [
       "\"I like ice cream its a great treat it makes me feel good about myself and my body.\\n\\nI'm not sure if it's because I like it or not but I love it so much that I'm going to give it a try and see what I can do with it.\""
      ]
     },
     "execution_count": 20,
     "metadata": {},
     "output_type": "execute_result"
    }
   ],
   "source": [
    "# Text Generation \n",
    "\n",
    "text=\"I like ice cream its a great treat it makes me feel good\"\n",
    "\n",
    "\n",
    "tokenizer = GPT2Tokenizer.from_pretrained('gpt2')\n",
    "model_gpt = GPT2LMHeadModel.from_pretrained('gpt2', pad_token_id=tokenizer.eos_token_id)\n",
    "\n",
    "input_ids=tokenizer.encode(text, return_tensors='pt')\n",
    "\n",
    "output = model_gpt.generate(input_ids,num_beams=5,max_length=200,no_repeat_ngram_size=2, early_stopping=True)\n",
    "tokenizer.decode(output[0], skip_special_tokens=True)"
   ]
  },
  {
   "cell_type": "markdown",
   "id": "70ccf466-541f-4cdc-82af-f83e8433a0b6",
   "metadata": {},
   "source": [
    "## GPT reading extracted pdf text and generating same text"
   ]
  },
  {
   "cell_type": "code",
   "execution_count": 27,
   "id": "0f89991a-470b-464f-ae0d-acab04c549ab",
   "metadata": {
    "tags": []
   },
   "outputs": [
    {
     "name": "stdout",
     "output_type": "stream",
     "text": [
      "summary:\n",
      "KATHY NGUYEN\n",
      "(817) 296-8130\n",
      "Kathyy.nguyen121@gmail.com\n",
      "www.linkedin.com/kathynguyen121\n",
      "www.github.com/hotdiddlydog\n",
      "EDUCATION\n",
      "University of Memphis May 2024\n",
      "B.S. in Computer Science GPA 3.8/4.0\n",
      "Honors: Diversity in Computer Science Recipient (2021), Dean’s List (2020–Present), TN Hope Recipient (2020–Present)\n",
      "Coursework: Databases, Algorithms (Python), Object-Oriented Programming & Data Structures (Java/Python)\n",
      "SKILLS\n",
      "Languages: Python, Java, Ruby, TypeScript, JavaScript, HTML, SQL\n",
      "Frameworks and Technologies: NodeJS, Angular, React, Ruby on Rails, MongoDB, Jira, Excel, Balsamiq, GitHub\n",
      "PROFESSIONAL EXPERIENCE\n",
      "AutoZone Store Support Center Memphis, TN\n",
      "DX Commercial Ecommerce Intern, (Jira, Excel) June 2023–August 2023\n",
      "• Conduct research on accuracy of site’s search engine to increase revenue and conversion.\n",
      "• Assist in creation of Jira tickets outlining development needs based on business requirements.\n",
      "• Engage with product owners, developers, and analysts to discuss updates and blockers.\n",
      "Concert Genetics Remote\n",
      "Software Engineering Intern, (Angular, TypeScript) June 2022–May 2023\n",
      "• Managed content for internal application dealing with 75,000+ genetic testing products.\n",
      "• Worked on 2-3 tickets per sprint to improve user experience and fix bugs.\n",
      "• Participated in code reviews to ensure code quality and improve security.\n",
      "Just City Memphis, TN\n",
      "Front End Web Developer Intern, (React, JavaScript) September 2021- June 2022\n",
      "• Worked alongside project lead, UX/UI collaborator, data analyst and policy analyst interns.\n",
      "• Helped create a website that showcases disparities within the Memphis justice system.\n",
      "• Codified website designs based on UX/UI collaborator’s vision for problems and stories pages.\n",
      "PROJECTS\n",
      "The City of Memphis - Metro Alarm Office Memphis, TN\n",
      "Software Developer, Cry Wolf Replacement App, (NodeJS, Electron, JavaScript, MongoDB, Balsamiq) Spring 2023\n",
      "• Developed desktop application utilized by 10+ employees to process false alarms for 600,000+ residents in\n",
      "the City of Memphis.\n",
      "• Integrated NoSQL database for ease of transfer onto application.\n",
      "• Used balsamiq wireframes to conduct user testing, improving user efficiency by 30%.\n",
      "• Created documentation that outlines the software’s requirements, architecture, source code, and support\n",
      "resources for known bugs.\n",
      "The University of Memphis Memphis, TN\n",
      "Software Developer, Records Auction Application, (Ruby on Rails, Balsamiq) Fall 2022\n",
      "• Developed a mock eBay website that allows a user to trade or auction records.\n",
      "• Gained experience in Git collaboration and code debugging.\n",
      "INVOLVEMENT\n",
      "UofM Film Club Member, 2023 - Present\n",
      "Association for Computing Machinery Member, 2022 – Present\n",
      "Criminal Justice Student Association Member, 2022 – Present\n",
      "Just City Court Watcher Volunteer, 2022-Present\n",
      "Mental Health Counselor, 1923-2023, 21st Century C.A.M.C.E., 2024 – 2025, 22nd Century A.I.L.D., 2225 – 2226, 23rd Century B.P.R.T., 2326 – 2327, 24th Century E.H.O., 2427 – 2428, 25th and 26th Centuries, 2628 – 2629, 27th, 28th & 29thCenturies\n",
      "REFERENCES\n"
     ]
    }
   ],
   "source": [
    "#reads pdf and generates the text\n",
    "\n",
    "input_pdf_text = extract_text(\"Kathy_Nguyen_Resume.pdf\")\n",
    "\n",
    "\n",
    "tokenizer = GPT2Tokenizer.from_pretrained('gpt2')\n",
    "model2 = GPT2LMHeadModel.from_pretrained('gpt2', pad_token_id=tokenizer.eos_token_id)\n",
    "\n",
    "input_ids=tokenizer.encode(input_pdf_text, return_tensors='pt')\n",
    "\n",
    "summary_ids=model2.generate(input_ids,max_length=100000,min_length=30,length_penalty=2.0, num_beams=4,early_stopping=True, no_repeat_ngram_size=2)\n",
    "\n",
    "summary=tokenizer.decode(summary_ids[0], skip_special_tokens=True)\n",
    "print('summary:')\n",
    "print(summary)"
   ]
  },
  {
   "cell_type": "code",
   "execution_count": null,
   "id": "254df93c-272b-4052-a571-23fe28f481a5",
   "metadata": {},
   "outputs": [],
   "source": []
  }
 ],
 "metadata": {
  "kernelspec": {
   "display_name": "Python 3 (ipykernel)",
   "language": "python",
   "name": "python3"
  },
  "language_info": {
   "codemirror_mode": {
    "name": "ipython",
    "version": 3
   },
   "file_extension": ".py",
   "mimetype": "text/x-python",
   "name": "python",
   "nbconvert_exporter": "python",
   "pygments_lexer": "ipython3",
   "version": "3.11.4"
  }
 },
 "nbformat": 4,
 "nbformat_minor": 5
}
